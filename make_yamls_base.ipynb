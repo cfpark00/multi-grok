{
 "cells": [
  {
   "cell_type": "code",
   "execution_count": 113,
   "metadata": {},
   "outputs": [
    {
     "data": {
      "text/plain": [
       "['add', 'sub', 'max', 'first', 'rand', 'even', 'a2b', 'a2abb2', 'a3ab']"
      ]
     },
     "execution_count": 113,
     "metadata": {},
     "output_type": "execute_result"
    }
   ],
   "source": [
    "import utils\n",
    "import copy\n",
    "import os\n",
    "import numpy as np\n",
    "\n",
    "import importlib\n",
    "importlib.reload(utils)\n",
    "utils.task_names_"
   ]
  },
  {
   "cell_type": "code",
   "execution_count": 114,
   "metadata": {},
   "outputs": [],
   "source": [
    "task_names=['add', 'rand', 'even', 'a2b', 'a3ab',\"a2abb2\"]"
   ]
  },
  {
   "cell_type": "code",
   "execution_count": 115,
   "metadata": {},
   "outputs": [],
   "source": [
    "default_config={\n",
    "    \"experiment_directory\":\"./data/experiments/default/\",\n",
    "    \"seed\":0,\n",
    "    \"dataset_params\":{\n",
    "        \"base_path\":\"./data/datasets/\",\n",
    "        \"n_max\":31,\n",
    "        \"seq_len\":6,\n",
    "        \"task_names\":[\"even\",\"add\",\"rand\"],\n",
    "        \"train_frac\":0.5,\n",
    "        \"sampling_method\":\"random\",\n",
    "        \"sampling_kwargs\":{\"temp\":1.0},\n",
    "    },\n",
    "    \"training_params\":{\n",
    "        \"n_steps\":100_000,\n",
    "        \"batch_size\":128,\n",
    "        \"save_steps\":[10,100,1_000,10_000,100_000],\n",
    "        \"ckpt_steps\":[],\n",
    "    },\n",
    "    \"model_params\":{\n",
    "        \"lr\":0.001,\n",
    "        \"weight_decay\":1.0,\n",
    "        \"betas\":[0.9,0.98],\n",
    "        \"network_params\":{\n",
    "            \"n_layer\":2,\n",
    "            \"n_head\":4,\n",
    "            \"n_embd\":128,\n",
    "            \"dropout\":0.0,\n",
    "            \"bias\":False\n",
    "            }\n",
    "    }\n",
    "}"
   ]
  },
  {
   "cell_type": "code",
   "execution_count": 8,
   "metadata": {},
   "outputs": [],
   "source": [
    "def get_sqrt_steps(start,end,n):\n",
    "    steps=(np.linspace(np.sqrt(start),np.sqrt(end),n)**2).astype(int)\n",
    "    steps[-1]=end\n",
    "    steps=np.unique(steps)\n",
    "    return steps.tolist()"
   ]
  },
  {
   "cell_type": "code",
   "execution_count": 9,
   "metadata": {},
   "outputs": [],
   "source": [
    "n_steps=100_000\n",
    "save_steps=get_sqrt_steps(start=10,end=n_steps,n=100)"
   ]
  },
  {
   "cell_type": "markdown",
   "metadata": {},
   "source": [
    "singles"
   ]
  },
  {
   "cell_type": "code",
   "execution_count": 124,
   "metadata": {},
   "outputs": [],
   "source": [
    "fol_name=\"singles\"\n",
    "for task_name in task_names:\n",
    "    for seed in range(3):\n",
    "        fol=f\"./yamls/base/{fol_name}/seed={seed}/\"\n",
    "        if not os.path.exists(fol):\n",
    "            os.makedirs(fol)\n",
    "\n",
    "        config_=copy.deepcopy(default_config)\n",
    "        config_[\"experiment_directory\"]=f\"./data/experiments/base/{fol_name}/{task_name}_seed={seed}/\"\n",
    "        config_[\"seed\"]=seed\n",
    "        config_[\"dataset_params\"][\"task_names\"]=[task_name]\n",
    "        config_[\"training_params\"][\"n_steps\"]=n_steps\n",
    "        config_[\"training_params\"][\"n_steps\"]=n_steps\n",
    "        config_[\"training_params\"][\"save_steps\"]=save_steps\n",
    "        config_[\"training_params\"][\"ckpt_steps\"]=[n_steps]\n",
    "\n",
    "        utils.write_config(config_,os.path.join(fol,f\"{task_name}.yaml\"))"
   ]
  },
  {
   "cell_type": "code",
   "execution_count": 67,
   "metadata": {},
   "outputs": [],
   "source": [
    "fol_name=\"singles_bs=64\"\n",
    "for task_name in task_names:\n",
    "    for seed in range(3):\n",
    "        fol=f\"./yamls/base/{fol_name}/seed={seed}/\"\n",
    "        if not os.path.exists(fol):\n",
    "            os.makedirs(fol)\n",
    "\n",
    "        config_=copy.deepcopy(default_config)\n",
    "        config_[\"experiment_directory\"]=f\"./data/experiments/base/{fol_name}/{task_name}_seed={seed}/\"\n",
    "        config_[\"seed\"]=seed\n",
    "        config_[\"dataset_params\"][\"task_names\"]=[task_name]\n",
    "        config_[\"training_params\"][\"n_steps\"]=n_steps\n",
    "        config_[\"training_params\"][\"batch_size\"]=64\n",
    "        config_[\"training_params\"][\"save_steps\"]=save_steps\n",
    "\n",
    "        utils.write_config(config_,os.path.join(fol,f\"{task_name}.yaml\"))"
   ]
  },
  {
   "cell_type": "markdown",
   "metadata": {},
   "source": [
    "add+one task"
   ]
  },
  {
   "cell_type": "code",
   "execution_count": 40,
   "metadata": {},
   "outputs": [],
   "source": [
    "fol_name=\"addp1\"\n",
    "for task_name in task_names:\n",
    "    if task_name==\"add\":\n",
    "        continue\n",
    "    for seed in range(3):\n",
    "        fol=f\"./yamls/base/{fol_name}/seed={seed}/\"\n",
    "        if not os.path.exists(fol):\n",
    "            os.makedirs(fol)\n",
    "\n",
    "        config_=copy.deepcopy(default_config)\n",
    "        config_[\"experiment_directory\"]=f\"./data/experiments/base/{fol_name}/{task_name}_seed={seed}/\"\n",
    "        config_[\"seed\"]=seed\n",
    "        config_[\"dataset_params\"][\"task_names\"]=[task_name,\"add\"]\n",
    "        config_[\"training_params\"][\"n_steps\"]=n_steps\n",
    "        config_[\"training_params\"][\"save_steps\"]=save_steps\n",
    "\n",
    "        utils.write_config(config_,os.path.join(fol,f\"{task_name}.yaml\"))"
   ]
  },
  {
   "cell_type": "code",
   "execution_count": 117,
   "metadata": {},
   "outputs": [],
   "source": [
    "fol_name=\"addp1_sampaddfirst\"\n",
    "for task_name in task_names:\n",
    "    if task_name==\"add\":\n",
    "        continue\n",
    "    for seed in range(3):\n",
    "        fol=f\"./yamls/base/{fol_name}/seed={seed}/\"\n",
    "        if not os.path.exists(fol):\n",
    "            os.makedirs(fol)\n",
    "\n",
    "        config_=copy.deepcopy(default_config)\n",
    "        config_[\"experiment_directory\"]=f\"./data/experiments/base/{fol_name}/{task_name}_seed={seed}/\"\n",
    "        config_[\"seed\"]=seed\n",
    "        config_[\"dataset_params\"][\"task_names\"]=[task_name,\"add\"]\n",
    "        config_[\"dataset_params\"][\"sampling_method\"]=\"add_first\"\n",
    "        config_[\"dataset_params\"][\"sampling_kwargs\"]={\"temp\":0.2}\n",
    "        config_[\"training_params\"][\"n_steps\"]=n_steps\n",
    "        config_[\"training_params\"][\"save_steps\"]=save_steps\n",
    "\n",
    "        utils.write_config(config_,os.path.join(fol,f\"{task_name}.yaml\"))"
   ]
  },
  {
   "cell_type": "code",
   "execution_count": 118,
   "metadata": {},
   "outputs": [],
   "source": [
    "fol_name=\"addp1_sampaddfirst2\"\n",
    "for task_name in task_names:\n",
    "    if task_name==\"add\":\n",
    "        continue\n",
    "    for seed in range(3):\n",
    "        fol=f\"./yamls/base/{fol_name}/seed={seed}/\"\n",
    "        if not os.path.exists(fol):\n",
    "            os.makedirs(fol)\n",
    "\n",
    "        config_=copy.deepcopy(default_config)\n",
    "        config_[\"experiment_directory\"]=f\"./data/experiments/base/{fol_name}/{task_name}_seed={seed}/\"\n",
    "        config_[\"seed\"]=seed\n",
    "        config_[\"dataset_params\"][\"task_names\"]=[task_name,\"add\"]\n",
    "        config_[\"dataset_params\"][\"sampling_method\"]=\"add_first\"\n",
    "        config_[\"dataset_params\"][\"sampling_kwargs\"]={\"temp\":1.0}\n",
    "        config_[\"training_params\"][\"n_steps\"]=n_steps\n",
    "        config_[\"training_params\"][\"save_steps\"]=save_steps\n",
    "\n",
    "        utils.write_config(config_,os.path.join(fol,f\"{task_name}.yaml\"))"
   ]
  },
  {
   "cell_type": "code",
   "execution_count": 41,
   "metadata": {},
   "outputs": [],
   "source": [
    "fol_name=\"addp1_bs=256\"\n",
    "for task_name in task_names:\n",
    "    if task_name==\"add\":\n",
    "        continue\n",
    "    for seed in range(3):\n",
    "        fol=f\"./yamls/base/{fol_name}/seed={seed}/\"\n",
    "        if not os.path.exists(fol):\n",
    "            os.makedirs(fol)\n",
    "\n",
    "        config_=copy.deepcopy(default_config)\n",
    "        config_[\"experiment_directory\"]=f\"./data/experiments/base/{fol_name}/{task_name}_seed={seed}/\"\n",
    "        config_[\"seed\"]=seed\n",
    "        config_[\"dataset_params\"][\"task_names\"]=[task_name,\"add\"]\n",
    "        config_[\"training_params\"][\"n_steps\"]=n_steps\n",
    "        config_[\"training_params\"][\"batch_size\"]=256\n",
    "        config_[\"training_params\"][\"save_steps\"]=save_steps\n",
    "\n",
    "        utils.write_config(config_,os.path.join(fol,f\"{task_name}.yaml\"))"
   ]
  },
  {
   "cell_type": "code",
   "execution_count": 138,
   "metadata": {},
   "outputs": [],
   "source": [
    "fol_name=\"add_ft\"\n",
    "for task_name in task_names:\n",
    "    if task_name==\"add\":\n",
    "        continue\n",
    "    for seed in range(3):\n",
    "        fol=f\"./yamls/base/{fol_name}/seed={seed}/\"\n",
    "        if not os.path.exists(fol):\n",
    "            os.makedirs(fol)\n",
    "\n",
    "        config_=copy.deepcopy(default_config)\n",
    "        config_[\"experiment_directory\"]=f\"./data/experiments/base/{fol_name}/{task_name}_seed={seed}/\"\n",
    "        config_[\"seed\"]=seed\n",
    "        config_[\"dataset_params\"][\"task_names\"]=[task_name,\"add\"]\n",
    "        config_[\"dataset_params\"][\"sampling_method\"]=\"add_last\"\n",
    "        config_[\"dataset_params\"][\"sampling_kwargs\"]={\"temp\":1e-3}\n",
    "        config_[\"model_params\"][\"ckpt_path\"]=f\"./data/experiments/base/singles/add_seed=0/ckpts/ckpt_step=100000.pth\"\n",
    "        #low lr\n",
    "        config_[\"model_params\"][\"lr\"]=1e-5\n",
    "        config_[\"training_params\"][\"n_steps\"]=n_steps\n",
    "        config_[\"training_params\"][\"save_steps\"]=save_steps\n",
    "\n",
    "        utils.write_config(config_,os.path.join(fol,f\"{task_name}.yaml\"))"
   ]
  },
  {
   "cell_type": "markdown",
   "metadata": {},
   "source": [
    "all 6 tasks"
   ]
  },
  {
   "cell_type": "code",
   "execution_count": 11,
   "metadata": {},
   "outputs": [],
   "source": [
    "fol_name=\"all_bs=128\"\n",
    "for seed in range(3):\n",
    "    fol=f\"./yamls/base/{fol_name}/\"\n",
    "    if not os.path.exists(fol):\n",
    "        os.makedirs(fol)\n",
    "\n",
    "    config_=copy.deepcopy(default_config)\n",
    "    config_[\"experiment_directory\"]=f\"./data/experiments/base/{fol_name}/seed={seed}/\"\n",
    "    config_[\"seed\"]=seed\n",
    "    config_[\"dataset_params\"][\"task_names\"]=task_names\n",
    "    config_[\"training_params\"][\"n_steps\"]=n_steps\n",
    "    config_[\"training_params\"][\"batch_size\"]=128\n",
    "    config_[\"training_params\"][\"save_steps\"]=save_steps\n",
    "\n",
    "    utils.write_config(config_,os.path.join(fol,f\"all_seed={seed}.yaml\"))"
   ]
  },
  {
   "cell_type": "code",
   "execution_count": 68,
   "metadata": {},
   "outputs": [],
   "source": [
    "fol_name=\"all_bs=128_long\"\n",
    "for seed in range(3):\n",
    "    fol=f\"./yamls/base/{fol_name}/\"\n",
    "    if not os.path.exists(fol):\n",
    "        os.makedirs(fol)\n",
    "\n",
    "    config_=copy.deepcopy(default_config)\n",
    "    config_[\"experiment_directory\"]=f\"./data/experiments/base/{fol_name}/seed={seed}/\"\n",
    "    config_[\"seed\"]=seed\n",
    "    config_[\"dataset_params\"][\"task_names\"]=task_names\n",
    "    config_[\"training_params\"][\"n_steps\"]=6*100_000\n",
    "    config_[\"training_params\"][\"batch_size\"]=128\n",
    "    config_[\"training_params\"][\"save_steps\"]=get_sqrt_steps(start=10,end=6*100_000,n=100)\n",
    "\n",
    "    utils.write_config(config_,os.path.join(fol,f\"all_seed={seed}.yaml\"))"
   ]
  },
  {
   "cell_type": "code",
   "execution_count": 15,
   "metadata": {},
   "outputs": [],
   "source": [
    "fol_name=\"all_bs=128_long_wide\"\n",
    "for seed in range(3):\n",
    "    fol=f\"./yamls/base/{fol_name}/\"\n",
    "    if not os.path.exists(fol):\n",
    "        os.makedirs(fol)\n",
    "\n",
    "    config_=copy.deepcopy(default_config)\n",
    "    config_[\"experiment_directory\"]=f\"./data/experiments/base/{fol_name}/seed={seed}/\"\n",
    "    config_[\"seed\"]=seed\n",
    "    config_[\"dataset_params\"][\"task_names\"]=task_names\n",
    "    config_[\"model_params\"][\"network_params\"][\"n_embd\"]=512\n",
    "    config_[\"training_params\"][\"n_steps\"]=6*100_000\n",
    "    config_[\"training_params\"][\"batch_size\"]=128\n",
    "    config_[\"training_params\"][\"save_steps\"]=get_sqrt_steps(start=10,end=6*100_000,n=100)\n",
    "\n",
    "    utils.write_config(config_,os.path.join(fol,f\"all_seed={seed}.yaml\"))"
   ]
  },
  {
   "cell_type": "code",
   "execution_count": 16,
   "metadata": {},
   "outputs": [],
   "source": [
    "fol_name=\"all_bs=128_long_ntr=0.65\"\n",
    "for seed in range(3):\n",
    "    fol=f\"./yamls/base/{fol_name}/\"\n",
    "    if not os.path.exists(fol):\n",
    "        os.makedirs(fol)\n",
    "\n",
    "    config_=copy.deepcopy(default_config)\n",
    "    config_[\"experiment_directory\"]=f\"./data/experiments/base/{fol_name}/seed={seed}/\"\n",
    "    config_[\"seed\"]=seed\n",
    "    config_[\"dataset_params\"][\"task_names\"]=task_names\n",
    "    config_[\"dataset_params\"][\"train_frac\"]=0.65\n",
    "    config_[\"training_params\"][\"n_steps\"]=6*100_000\n",
    "    config_[\"training_params\"][\"batch_size\"]=128\n",
    "    config_[\"training_params\"][\"save_steps\"]=get_sqrt_steps(start=10,end=6*100_000,n=100)\n",
    "\n",
    "    utils.write_config(config_,os.path.join(fol,f\"all_seed={seed}.yaml\"))"
   ]
  },
  {
   "cell_type": "code",
   "execution_count": 12,
   "metadata": {},
   "outputs": [],
   "source": [
    "fol_name=\"all_bs=768\"\n",
    "for seed in range(3):\n",
    "    fol=f\"./yamls/base/{fol_name}/\"\n",
    "    if not os.path.exists(fol):\n",
    "        os.makedirs(fol)\n",
    "\n",
    "    config_=copy.deepcopy(default_config)\n",
    "    config_[\"experiment_directory\"]=f\"./data/experiments/base/{fol_name}/seed={seed}/\"\n",
    "    config_[\"seed\"]=seed\n",
    "    config_[\"dataset_params\"][\"task_names\"]=task_names\n",
    "    config_[\"training_params\"][\"n_steps\"]=n_steps\n",
    "    config_[\"training_params\"][\"batch_size\"]=768\n",
    "    config_[\"training_params\"][\"save_steps\"]=save_steps\n",
    "\n",
    "    utils.write_config(config_,os.path.join(fol,f\"all_seed={seed}.yaml\"))"
   ]
  },
  {
   "cell_type": "code",
   "execution_count": null,
   "metadata": {},
   "outputs": [],
   "source": []
  },
  {
   "cell_type": "markdown",
   "metadata": {},
   "source": [
    "no even"
   ]
  },
  {
   "cell_type": "code",
   "execution_count": 12,
   "metadata": {},
   "outputs": [],
   "source": [
    "no_even_tasks=['add', 'rand', 'a2b', 'a3ab',\"a2abb2\"]"
   ]
  },
  {
   "cell_type": "code",
   "execution_count": 13,
   "metadata": {},
   "outputs": [],
   "source": [
    "fol_name=\"noeven_bs=128\"\n",
    "for seed in range(3):\n",
    "    fol=f\"./yamls/base/{fol_name}/\"\n",
    "    if not os.path.exists(fol):\n",
    "        os.makedirs(fol)\n",
    "\n",
    "    config_=copy.deepcopy(default_config)\n",
    "    config_[\"experiment_directory\"]=f\"./data/experiments/base/{fol_name}/seed={seed}/\"\n",
    "    config_[\"seed\"]=seed\n",
    "    config_[\"dataset_params\"][\"task_names\"]=no_even_tasks\n",
    "    config_[\"training_params\"][\"n_steps\"]=n_steps\n",
    "    config_[\"training_params\"][\"batch_size\"]=128\n",
    "    config_[\"training_params\"][\"save_steps\"]=save_steps\n",
    "\n",
    "    utils.write_config(config_,os.path.join(fol,f\"all_seed={seed}.yaml\"))"
   ]
  },
  {
   "cell_type": "code",
   "execution_count": 14,
   "metadata": {},
   "outputs": [],
   "source": [
    "fol_name=\"noeven_bs=640\"\n",
    "for seed in range(3):\n",
    "    fol=f\"./yamls/base/{fol_name}/\"\n",
    "    if not os.path.exists(fol):\n",
    "        os.makedirs(fol)\n",
    "\n",
    "    config_=copy.deepcopy(default_config)\n",
    "    config_[\"experiment_directory\"]=f\"./data/experiments/base/{fol_name}/seed={seed}/\"\n",
    "    config_[\"seed\"]=seed\n",
    "    config_[\"dataset_params\"][\"task_names\"]=no_even_tasks\n",
    "    config_[\"training_params\"][\"n_steps\"]=n_steps\n",
    "    config_[\"training_params\"][\"batch_size\"]=640\n",
    "    config_[\"training_params\"][\"save_steps\"]=save_steps\n",
    "\n",
    "    utils.write_config(config_,os.path.join(fol,f\"all_seed={seed}.yaml\"))"
   ]
  },
  {
   "cell_type": "code",
   "execution_count": null,
   "metadata": {},
   "outputs": [],
   "source": []
  },
  {
   "cell_type": "code",
   "execution_count": 64,
   "metadata": {},
   "outputs": [],
   "source": [
    "add_a2b_a2abb2=['add', 'a2b',\"a2abb2\"]"
   ]
  },
  {
   "cell_type": "code",
   "execution_count": 65,
   "metadata": {},
   "outputs": [],
   "source": [
    "fol_name=\"add^a2b^a2abb2_bs=128\"\n",
    "for seed in range(3):\n",
    "    fol=f\"./yamls/base/{fol_name}/\"\n",
    "    if not os.path.exists(fol):\n",
    "        os.makedirs(fol)\n",
    "\n",
    "    config_=copy.deepcopy(default_config)\n",
    "    config_[\"experiment_directory\"]=f\"./data/experiments/base/{fol_name}/seed={seed}/\"\n",
    "    config_[\"seed\"]=seed\n",
    "    config_[\"dataset_params\"][\"task_names\"]=add_a2b_a2abb2\n",
    "    config_[\"training_params\"][\"n_steps\"]=n_steps\n",
    "    config_[\"training_params\"][\"batch_size\"]=128\n",
    "    config_[\"training_params\"][\"save_steps\"]=save_steps\n",
    "\n",
    "    utils.write_config(config_,os.path.join(fol,f\"all_seed={seed}.yaml\"))"
   ]
  },
  {
   "cell_type": "code",
   "execution_count": 66,
   "metadata": {},
   "outputs": [],
   "source": [
    "fol_name=\"add^a2b^a2abb2_bs=384\"\n",
    "for seed in range(3):\n",
    "    fol=f\"./yamls/base/{fol_name}/\"\n",
    "    if not os.path.exists(fol):\n",
    "        os.makedirs(fol)\n",
    "\n",
    "    config_=copy.deepcopy(default_config)\n",
    "    config_[\"experiment_directory\"]=f\"./data/experiments/base/{fol_name}/seed={seed}/\"\n",
    "    config_[\"seed\"]=seed\n",
    "    config_[\"dataset_params\"][\"task_names\"]=add_a2b_a2abb2\n",
    "    config_[\"training_params\"][\"n_steps\"]=n_steps\n",
    "    config_[\"training_params\"][\"batch_size\"]=384\n",
    "    config_[\"training_params\"][\"save_steps\"]=save_steps\n",
    "\n",
    "    utils.write_config(config_,os.path.join(fol,f\"all_seed={seed}.yaml\"))"
   ]
  },
  {
   "cell_type": "code",
   "execution_count": null,
   "metadata": {},
   "outputs": [],
   "source": []
  },
  {
   "cell_type": "code",
   "execution_count": 61,
   "metadata": {},
   "outputs": [
    {
     "data": {
      "text/plain": [
       "384"
      ]
     },
     "execution_count": 61,
     "metadata": {},
     "output_type": "execute_result"
    }
   ],
   "source": [
    "128*3"
   ]
  },
  {
   "cell_type": "code",
   "execution_count": 44,
   "metadata": {},
   "outputs": [],
   "source": [
    "import torch\n",
    "import torch.nn.functional as F"
   ]
  },
  {
   "cell_type": "code",
   "execution_count": 58,
   "metadata": {},
   "outputs": [],
   "source": [
    "x1=torch.randn(4,3)\n",
    "x2=x1.clone()\n",
    "x1.requires_grad=True"
   ]
  },
  {
   "cell_type": "code",
   "execution_count": 59,
   "metadata": {},
   "outputs": [
    {
     "data": {
      "text/plain": [
       "tensor([[-0.0917,  0.0270,  0.0647],\n",
       "        [ 0.0301, -0.1699,  0.1398],\n",
       "        [ 0.1749,  0.0470, -0.2219],\n",
       "        [-0.0278,  0.0182,  0.0095]])"
      ]
     },
     "execution_count": 59,
     "metadata": {},
     "output_type": "execute_result"
    }
   ],
   "source": [
    "ce1=F.cross_entropy(x1,torch.tensor([0,1,2,0]))\n",
    "ce1.backward()\n",
    "x1.grad"
   ]
  },
  {
   "cell_type": "code",
   "execution_count": 60,
   "metadata": {},
   "outputs": [
    {
     "data": {
      "text/plain": [
       "tensor([[-0.0917,  0.0270,  0.0647],\n",
       "        [ 0.0301, -0.1699,  0.1398],\n",
       "        [ 0.1749,  0.0470, -0.2219],\n",
       "        [-0.0278,  0.0182,  0.0095]])"
      ]
     },
     "execution_count": 60,
     "metadata": {},
     "output_type": "execute_result"
    }
   ],
   "source": [
    "sm=F.softmax(x2,dim=-1)\n",
    "sm.requires_grad=True\n",
    "ce2=F.mse_loss(sm,torch.tensor([[1.,0,0],[0,1,0],[0,0,1],[1,0,0]]))\n",
    "ce2.backward()\n",
    "sm.grad*3/2"
   ]
  },
  {
   "cell_type": "code",
   "execution_count": null,
   "metadata": {},
   "outputs": [],
   "source": []
  },
  {
   "cell_type": "code",
   "execution_count": null,
   "metadata": {},
   "outputs": [],
   "source": []
  },
  {
   "cell_type": "code",
   "execution_count": null,
   "metadata": {},
   "outputs": [],
   "source": []
  },
  {
   "cell_type": "code",
   "execution_count": null,
   "metadata": {},
   "outputs": [],
   "source": []
  },
  {
   "cell_type": "code",
   "execution_count": 7,
   "metadata": {},
   "outputs": [
    {
     "data": {
      "text/plain": [
       "['add', 'rand', 'even', 'a2b', 'a3ab', 'a2abb2']"
      ]
     },
     "execution_count": 7,
     "metadata": {},
     "output_type": "execute_result"
    }
   ],
   "source": [
    "task_names"
   ]
  },
  {
   "cell_type": "code",
   "execution_count": null,
   "metadata": {},
   "outputs": [],
   "source": []
  },
  {
   "cell_type": "code",
   "execution_count": 42,
   "metadata": {},
   "outputs": [],
   "source": [
    "config_=copy.deepcopy(utils.default_config)\n",
    "config_[\"experiment_directory\"]=\"./data/experiments/default/\"\n",
    "config_[\"seed\"]=0\n",
    "config_[\"training_params\"][\"n_steps\"]=n_steps\n",
    "config_[\"training_params\"][\"save_steps\"]=save_steps\n",
    "utils.write_config(config_,\"./yamls/default.yaml\")"
   ]
  },
  {
   "cell_type": "markdown",
   "metadata": {},
   "source": [
    "singles"
   ]
  },
  {
   "cell_type": "code",
   "execution_count": 75,
   "metadata": {},
   "outputs": [],
   "source": [
    "for task_name in utils.task_names_:\n",
    "    for seed in range(3):\n",
    "        fol=f\"./yamls/singles_bs=64/seed={seed}/\"\n",
    "        if not os.path.exists(fol):\n",
    "            os.makedirs(fol)\n",
    "\n",
    "        config_=copy.deepcopy(utils.default_config)\n",
    "        config_[\"experiment_directory\"]=f\"./data/experiments/singles_bs=64/{task_name}_seed={seed}/\"\n",
    "        config_[\"seed\"]=seed\n",
    "        config_[\"dataset_params\"][\"task_names\"]=[task_name]\n",
    "        config_[\"training_params\"][\"n_steps\"]=n_steps\n",
    "        config_[\"training_params\"][\"batch_size\"]=64\n",
    "        config_[\"training_params\"][\"save_steps\"]=save_steps\n",
    "\n",
    "        utils.write_config(config_,os.path.join(fol,f\"{task_name}.yaml\"))"
   ]
  },
  {
   "cell_type": "code",
   "execution_count": null,
   "metadata": {},
   "outputs": [],
   "source": [
    "for task_name in utils.task_names_:\n",
    "    for seed in range(3):\n",
    "        fol=f\"./yamls/singles_bs=128/seed={seed}/\"\n",
    "        if not os.path.exists(fol):\n",
    "            os.makedirs(fol)\n",
    "\n",
    "        config_=copy.deepcopy(utils.default_config)\n",
    "        config_[\"experiment_directory\"]=f\"./data/experiments/singles_bs=128/{task_name}_seed={seed}/\"\n",
    "        config_[\"seed\"]=seed\n",
    "        config_[\"dataset_params\"][\"task_names\"]=[task_name]\n",
    "        config_[\"training_params\"][\"n_steps\"]=n_steps\n",
    "        config_[\"training_params\"][\"batch_size\"]=128\n",
    "        config_[\"training_params\"][\"save_steps\"]=save_steps\n",
    "\n",
    "        utils.write_config(config_,os.path.join(fol,f\"{task_name}.yaml\"))"
   ]
  },
  {
   "cell_type": "code",
   "execution_count": 69,
   "metadata": {},
   "outputs": [],
   "source": [
    "for task_name in utils.task_names_:\n",
    "    for seed in range(3):\n",
    "        fol=f\"./yamls/singles_bs=256/seed={seed}/\"\n",
    "        if not os.path.exists(fol):\n",
    "            os.makedirs(fol)\n",
    "\n",
    "        config_=copy.deepcopy(utils.default_config)\n",
    "        config_[\"experiment_directory\"]=f\"./data/experiments/singles_bs=256/{task_name}_seed={seed}/\"\n",
    "        config_[\"seed\"]=seed\n",
    "        config_[\"dataset_params\"][\"task_names\"]=[task_name]\n",
    "        config_[\"training_params\"][\"n_steps\"]=n_steps\n",
    "        config_[\"training_params\"][\"batch_size\"]=256\n",
    "        config_[\"training_params\"][\"save_steps\"]=save_steps\n",
    "\n",
    "        utils.write_config(config_,os.path.join(fol,f\"{task_name}.yaml\"))"
   ]
  },
  {
   "cell_type": "code",
   "execution_count": 51,
   "metadata": {},
   "outputs": [],
   "source": [
    "for task_name in utils.task_names_:\n",
    "    for seed in range(3):\n",
    "        fol=f\"./yamls/singles_bs=512/seed={seed}/\"\n",
    "        if not os.path.exists(fol):\n",
    "            os.makedirs(fol)\n",
    "\n",
    "        config_=copy.deepcopy(utils.default_config)\n",
    "        config_[\"experiment_directory\"]=f\"./data/experiments/singles_bs=512/{task_name}_seed={seed}/\"\n",
    "        config_[\"seed\"]=seed\n",
    "        config_[\"dataset_params\"][\"task_names\"]=[task_name]\n",
    "        config_[\"training_params\"][\"n_steps\"]=n_steps\n",
    "        config_[\"training_params\"][\"batch_size\"]=512\n",
    "        config_[\"training_params\"][\"save_steps\"]=save_steps\n",
    "\n",
    "        utils.write_config(config_,os.path.join(fol,f\"{task_name}.yaml\"))"
   ]
  },
  {
   "cell_type": "code",
   "execution_count": null,
   "metadata": {},
   "outputs": [],
   "source": [
    "#batch 256\n",
    "#names\n",
    "#['add', 'sub', 'max', 'first', 'rand', 'even', 'a2b', 'a2abb2', 'a3ab']\n",
    "#possible\n",
    "#[yes,  yes ,   yes ,   yes ,   no  ,   yes  , yes ,   yes    , yes  ]\n",
    "#n_step learned\n",
    "#[5e2,  1e3,    6e1,     8e1,     inf, 3e2, 2e3, [3e2,3e4], inf]\n",
    "#grok\n",
    "#[yes, yes,     no,    no,     no,     yes,  yes,    yes,   yes]\n"
   ]
  },
  {
   "cell_type": "markdown",
   "metadata": {},
   "source": [
    "Sub+Add"
   ]
  },
  {
   "cell_type": "code",
   "execution_count": 57,
   "metadata": {},
   "outputs": [],
   "source": [
    "#sub+add -> exploring adding two groks.\n",
    "#same batch (will reduce batch size per task)\n",
    "for seed in range(3):\n",
    "    fol=f\"./yamls/sub^add_bs=256/\"\n",
    "    if not os.path.exists(fol):\n",
    "        os.makedirs(fol)\n",
    "\n",
    "    config_=copy.deepcopy(utils.default_config)\n",
    "    config_[\"experiment_directory\"]=f\"./data/experiments/sub^add_bs=256/sub^add_seed={seed}/\"\n",
    "    config_[\"seed\"]=seed\n",
    "    config_[\"dataset_params\"][\"task_names\"]=['sub','add']\n",
    "    config_[\"training_params\"][\"n_steps\"]=n_steps\n",
    "    config_[\"training_params\"][\"batch_size\"]=256\n",
    "    config_[\"training_params\"][\"save_steps\"]=save_steps\n",
    "\n",
    "    utils.write_config(config_,os.path.join(fol,f\"sub^add_seed={seed}.yaml\"))"
   ]
  },
  {
   "cell_type": "code",
   "execution_count": null,
   "metadata": {},
   "outputs": [],
   "source": [
    "#sub+add -> exploring adding two groks.\n",
    "#2x batch (will maintain batch size per task)\n",
    "for seed in range(3):\n",
    "    fol=f\"./yamls/sub^add_bs=512/\"\n",
    "    if not os.path.exists(fol):\n",
    "        os.makedirs(fol)\n",
    "\n",
    "    config_=copy.deepcopy(utils.default_config)\n",
    "    config_[\"experiment_directory\"]=f\"./data/experiments/sub^add_bs=512/sub^add_seed={seed}/\"\n",
    "    config_[\"seed\"]=seed\n",
    "    config_[\"dataset_params\"][\"task_names\"]=['sub','add']\n",
    "    config_[\"training_params\"][\"n_steps\"]=n_steps\n",
    "    config_[\"training_params\"][\"batch_size\"]=512\n",
    "    config_[\"training_params\"][\"save_steps\"]=save_steps\n",
    "\n",
    "    utils.write_config(config_,os.path.join(fol,f\"sub^add_seed={seed}.yaml\"))"
   ]
  },
  {
   "cell_type": "markdown",
   "metadata": {},
   "source": [
    "Many"
   ]
  },
  {
   "cell_type": "code",
   "execution_count": 59,
   "metadata": {},
   "outputs": [],
   "source": [
    "#2xbatch (will maintain batch size per task)\n",
    "for seed in range(3):\n",
    "    fol=f\"./yamls/sub^rand^even^a2b^a2abb2^a3ab_bs=512/\"\n",
    "    if not os.path.exists(fol):\n",
    "        os.makedirs(fol)\n",
    "\n",
    "    config_=copy.deepcopy(utils.default_config)\n",
    "    config_[\"experiment_directory\"]=f\"./data/experiments/sub^rand^even^a2b^a2abb2^a3ab_bs=512/sub^rand^even^a2b^a2abb2^a3ab_seed={seed}/\"\n",
    "    config_[\"seed\"]=seed\n",
    "    config_[\"dataset_params\"][\"task_names\"]=['sub', 'rand', 'even', 'a2b', 'a2abb2', 'a3ab']\n",
    "    config_[\"training_params\"][\"n_steps\"]=n_steps\n",
    "    config_[\"training_params\"][\"batch_size\"]=512\n",
    "    config_[\"training_params\"][\"save_steps\"]=save_steps\n",
    "\n",
    "    utils.write_config(config_,os.path.join(fol,f\"sub^rand^even^a2b^a2abb2^a3ab_seed={seed}.yaml\"))"
   ]
  },
  {
   "cell_type": "markdown",
   "metadata": {},
   "source": [
    "Many2"
   ]
  },
  {
   "cell_type": "code",
   "execution_count": 60,
   "metadata": {},
   "outputs": [],
   "source": [
    "#2xbatch (will maintain batch size per task)\n",
    "for seed in range(3):\n",
    "    fol=f\"./yamls/max^rand^even^add_bs=512/\"\n",
    "    if not os.path.exists(fol):\n",
    "        os.makedirs(fol)\n",
    "\n",
    "    config_=copy.deepcopy(utils.default_config)\n",
    "    config_[\"experiment_directory\"]=f\"./data/experiments/max^rand^even^add_bs=512/max^rand^even^add_seed={seed}/\"\n",
    "    config_[\"seed\"]=seed\n",
    "    config_[\"dataset_params\"][\"task_names\"]=['max', 'rand', 'even', 'add']\n",
    "    config_[\"training_params\"][\"n_steps\"]=n_steps\n",
    "    config_[\"training_params\"][\"batch_size\"]=512\n",
    "    config_[\"training_params\"][\"save_steps\"]=save_steps\n",
    "\n",
    "    utils.write_config(config_,os.path.join(fol,f\"max^rand^even^add_seed={seed}.yaml\"))"
   ]
  },
  {
   "cell_type": "markdown",
   "metadata": {},
   "source": [
    "Many3"
   ]
  },
  {
   "cell_type": "code",
   "execution_count": 74,
   "metadata": {},
   "outputs": [],
   "source": [
    "#2xbatch (will maintain batch size per task)\n",
    "for seed in range(3):\n",
    "    fol=f\"./yamls/max^even^add^a2b^rand_bs=640/\"\n",
    "    if not os.path.exists(fol):\n",
    "        os.makedirs(fol)\n",
    "\n",
    "    config_=copy.deepcopy(utils.default_config)\n",
    "    config_[\"experiment_directory\"]=f\"./data/experiments/max^even^add^a2b^rand_bs=640/max^even^add^a2b^rand_seed={seed}/\"\n",
    "    config_[\"seed\"]=seed\n",
    "    config_[\"dataset_params\"][\"task_names\"]=['max', 'even', 'add', 'a2b', 'rand']\n",
    "    config_[\"training_params\"][\"n_steps\"]=n_steps\n",
    "    config_[\"training_params\"][\"batch_size\"]=640\n",
    "    config_[\"training_params\"][\"save_steps\"]=save_steps\n",
    "\n",
    "    utils.write_config(config_,os.path.join(fol,f\"max^even^add^a2b^rand_seed={seed}.yaml\"))"
   ]
  },
  {
   "cell_type": "markdown",
   "metadata": {},
   "source": [
    "a2b + add"
   ]
  },
  {
   "cell_type": "code",
   "execution_count": 61,
   "metadata": {},
   "outputs": [],
   "source": [
    "#2xbatch (will maintain batch size per task)\n",
    "for seed in range(3):\n",
    "    fol=f\"./yamls/a2b^add_bs=512/\"\n",
    "    if not os.path.exists(fol):\n",
    "        os.makedirs(fol)\n",
    "\n",
    "    config_=copy.deepcopy(utils.default_config)\n",
    "    config_[\"experiment_directory\"]=f\"./data/experiments/a2b^add_bs=512/a2b^add_seed={seed}/\"\n",
    "    config_[\"seed\"]=seed\n",
    "    config_[\"dataset_params\"][\"task_names\"]=['a2b', 'add']\n",
    "    config_[\"training_params\"][\"n_steps\"]=n_steps\n",
    "    config_[\"training_params\"][\"batch_size\"]=512\n",
    "    config_[\"training_params\"][\"save_steps\"]=save_steps\n",
    "\n",
    "    utils.write_config(config_,os.path.join(fol,f\"a2b^add_seed={seed}.yaml\"))"
   ]
  },
  {
   "cell_type": "code",
   "execution_count": 70,
   "metadata": {},
   "outputs": [],
   "source": [
    "#2xbatch (will maintain batch size per task)\n",
    "for seed in range(3):\n",
    "    fol=f\"./yamls/a2b^add_bs=256/\"\n",
    "    if not os.path.exists(fol):\n",
    "        os.makedirs(fol)\n",
    "\n",
    "    config_=copy.deepcopy(utils.default_config)\n",
    "    config_[\"experiment_directory\"]=f\"./data/experiments/a2b^add_bs=256/a2b^add_seed={seed}/\"\n",
    "    config_[\"seed\"]=seed\n",
    "    config_[\"dataset_params\"][\"task_names\"]=['a2b', 'add']\n",
    "    config_[\"training_params\"][\"n_steps\"]=n_steps\n",
    "    config_[\"training_params\"][\"batch_size\"]=256\n",
    "    config_[\"training_params\"][\"save_steps\"]=save_steps\n",
    "\n",
    "    utils.write_config(config_,os.path.join(fol,f\"a2b^add_seed={seed}.yaml\"))"
   ]
  },
  {
   "cell_type": "markdown",
   "metadata": {},
   "source": [
    "max+add"
   ]
  },
  {
   "cell_type": "code",
   "execution_count": 62,
   "metadata": {},
   "outputs": [],
   "source": [
    "#2xbatch (will maintain batch size per task)\n",
    "for seed in range(3):\n",
    "    fol=f\"./yamls/max^add_bs=512/\"\n",
    "    if not os.path.exists(fol):\n",
    "        os.makedirs(fol)\n",
    "\n",
    "    config_=copy.deepcopy(utils.default_config)\n",
    "    config_[\"experiment_directory\"]=f\"./data/experiments/max^add_bs=512/max^add_seed={seed}/\"\n",
    "    config_[\"seed\"]=seed\n",
    "    config_[\"dataset_params\"][\"task_names\"]=['max', 'add']\n",
    "    config_[\"training_params\"][\"n_steps\"]=n_steps\n",
    "    config_[\"training_params\"][\"batch_size\"]=512\n",
    "    config_[\"training_params\"][\"save_steps\"]=save_steps\n",
    "\n",
    "    utils.write_config(config_,os.path.join(fol,f\"max^add_seed={seed}.yaml\"))"
   ]
  },
  {
   "cell_type": "markdown",
   "metadata": {},
   "source": [
    "a3ab+ add"
   ]
  },
  {
   "cell_type": "code",
   "execution_count": 63,
   "metadata": {},
   "outputs": [],
   "source": [
    "#2xbatch (will maintain batch size per task)\n",
    "for seed in range(3):\n",
    "    fol=f\"./yamls/a3ab^add_bs=512/\"\n",
    "    if not os.path.exists(fol):\n",
    "        os.makedirs(fol)\n",
    "\n",
    "    config_=copy.deepcopy(utils.default_config)\n",
    "    config_[\"experiment_directory\"]=f\"./data/experiments/a3ab^add_bs=512/a3ab^add_seed={seed}/\"\n",
    "    config_[\"seed\"]=seed\n",
    "    config_[\"dataset_params\"][\"task_names\"]=['a3ab', 'add']\n",
    "    config_[\"training_params\"][\"n_steps\"]=n_steps\n",
    "    config_[\"training_params\"][\"batch_size\"]=512\n",
    "    config_[\"training_params\"][\"save_steps\"]=save_steps\n",
    "\n",
    "    utils.write_config(config_,os.path.join(fol,f\"a3ab^add_seed={seed}.yaml\"))"
   ]
  },
  {
   "cell_type": "markdown",
   "metadata": {},
   "source": [
    "rand+ add"
   ]
  },
  {
   "cell_type": "code",
   "execution_count": 67,
   "metadata": {},
   "outputs": [],
   "source": [
    "#2xbatch (will maintain batch size per task)\n",
    "for seed in range(3):\n",
    "    fol=f\"./yamls/rand^add_bs=512/\"\n",
    "    if not os.path.exists(fol):\n",
    "        os.makedirs(fol)\n",
    "\n",
    "    config_=copy.deepcopy(utils.default_config)\n",
    "    config_[\"experiment_directory\"]=f\"./data/experiments/rand^add_bs=512/rand^add_seed={seed}/\"\n",
    "    config_[\"seed\"]=seed\n",
    "    config_[\"dataset_params\"][\"task_names\"]=['rand', 'add']\n",
    "    config_[\"training_params\"][\"n_steps\"]=n_steps\n",
    "    config_[\"training_params\"][\"batch_size\"]=512\n",
    "    config_[\"training_params\"][\"save_steps\"]=save_steps\n",
    "\n",
    "    utils.write_config(config_,os.path.join(fol,f\"rand^add_seed={seed}.yaml\"))"
   ]
  },
  {
   "cell_type": "markdown",
   "metadata": {},
   "source": [
    "a2abb2+add"
   ]
  },
  {
   "cell_type": "code",
   "execution_count": 68,
   "metadata": {},
   "outputs": [],
   "source": [
    "#2xbatch (will maintain batch size per task)\n",
    "for seed in range(3):\n",
    "    fol=f\"./yamls/a2abb2^add_bs=512/\"\n",
    "    if not os.path.exists(fol):\n",
    "        os.makedirs(fol)\n",
    "\n",
    "    config_=copy.deepcopy(utils.default_config)\n",
    "    config_[\"experiment_directory\"]=f\"./data/experiments/a2abb2^add_bs=512/a2abb2^add_seed={seed}/\"\n",
    "    config_[\"seed\"]=seed\n",
    "    config_[\"dataset_params\"][\"task_names\"]=['a2abb2', 'add']\n",
    "    config_[\"training_params\"][\"n_steps\"]=n_steps\n",
    "    config_[\"training_params\"][\"batch_size\"]=512\n",
    "    config_[\"training_params\"][\"save_steps\"]=save_steps\n",
    "\n",
    "    utils.write_config(config_,os.path.join(fol,f\"a2abb2^add_seed={seed}.yaml\"))"
   ]
  },
  {
   "cell_type": "code",
   "execution_count": 71,
   "metadata": {},
   "outputs": [],
   "source": [
    "for seed in range(3):\n",
    "    fol=f\"./yamls/a2abb2^add_bs=256/\"\n",
    "    if not os.path.exists(fol):\n",
    "        os.makedirs(fol)\n",
    "\n",
    "    config_=copy.deepcopy(utils.default_config)\n",
    "    config_[\"experiment_directory\"]=f\"./data/experiments/a2abb2^add_bs=256/a2abb2^add_seed={seed}/\"\n",
    "    config_[\"seed\"]=seed\n",
    "    config_[\"dataset_params\"][\"task_names\"]=['a2abb2', 'add']\n",
    "    config_[\"training_params\"][\"n_steps\"]=n_steps\n",
    "    config_[\"training_params\"][\"batch_size\"]=256\n",
    "    config_[\"training_params\"][\"save_steps\"]=save_steps\n",
    "\n",
    "    utils.write_config(config_,os.path.join(fol,f\"a2abb2^add_seed={seed}.yaml\"))"
   ]
  },
  {
   "cell_type": "markdown",
   "metadata": {},
   "source": [
    "a3ab+sub+add"
   ]
  },
  {
   "cell_type": "code",
   "execution_count": 66,
   "metadata": {},
   "outputs": [],
   "source": [
    "#2xbatch (will maintain batch size per task)\n",
    "for seed in range(3):\n",
    "    fol=f\"./yamls/a3ab^sub^add_bs=768/\"\n",
    "    if not os.path.exists(fol):\n",
    "        os.makedirs(fol)\n",
    "\n",
    "    config_=copy.deepcopy(utils.default_config)\n",
    "    config_[\"experiment_directory\"]=f\"./data/experiments/a3ab^sub^add_bs=768/a3ab^sub^add_seed={seed}/\"\n",
    "    config_[\"seed\"]=seed\n",
    "    config_[\"dataset_params\"][\"task_names\"]=['a3ab', 'sub','add']\n",
    "    config_[\"training_params\"][\"n_steps\"]=n_steps\n",
    "    config_[\"training_params\"][\"batch_size\"]=768\n",
    "    config_[\"training_params\"][\"save_steps\"]=save_steps\n",
    "\n",
    "    utils.write_config(config_,os.path.join(fol,f\"a3ab^sub^add_seed={seed}.yaml\"))"
   ]
  },
  {
   "cell_type": "markdown",
   "metadata": {},
   "source": [
    "Model changes"
   ]
  },
  {
   "cell_type": "code",
   "execution_count": 80,
   "metadata": {},
   "outputs": [],
   "source": [
    "# init at 1\n",
    "for task_name in utils.task_names_:\n",
    "    for seed in range(3):\n",
    "        fol=f\"./yamls/singles_md1_bs=128/seed={seed}/\"\n",
    "        if not os.path.exists(fol):\n",
    "            os.makedirs(fol)\n",
    "\n",
    "        config_=copy.deepcopy(utils.default_config)\n",
    "        config_[\"experiment_directory\"]=f\"./data/experiments/singles_md1_bs=128/{task_name}_seed={seed}/\"\n",
    "        config_[\"seed\"]=seed\n",
    "        config_[\"dataset_params\"][\"task_names\"]=[task_name]\n",
    "        config_[\"model_params\"][\"network_params\"][\"kwargs\"]={\"init_scale\":1.0}\n",
    "        config_[\"training_params\"][\"n_steps\"]=n_steps\n",
    "        config_[\"training_params\"][\"batch_size\"]=128\n",
    "        config_[\"training_params\"][\"save_steps\"]=save_steps\n",
    "\n",
    "        utils.write_config(config_,os.path.join(fol,f\"{task_name}.yaml\"))"
   ]
  },
  {
   "cell_type": "code",
   "execution_count": 83,
   "metadata": {},
   "outputs": [],
   "source": [
    "#2layer\n",
    "for task_name in utils.task_names_:\n",
    "    for seed in range(3):\n",
    "        fol=f\"./yamls/singles_md2_bs=128/seed={seed}/\"\n",
    "        if not os.path.exists(fol):\n",
    "            os.makedirs(fol)\n",
    "\n",
    "        config_=copy.deepcopy(utils.default_config)\n",
    "        config_[\"experiment_directory\"]=f\"./data/experiments/singles_md2_bs=128/{task_name}_seed={seed}/\"\n",
    "        config_[\"seed\"]=seed\n",
    "        config_[\"dataset_params\"][\"task_names\"]=[task_name]\n",
    "        config_[\"model_params\"][\"network_params\"][\"n_layer\"]=2\n",
    "        config_[\"training_params\"][\"n_steps\"]=n_steps\n",
    "        config_[\"training_params\"][\"batch_size\"]=128\n",
    "        config_[\"training_params\"][\"save_steps\"]=save_steps\n",
    "\n",
    "        utils.write_config(config_,os.path.join(fol,f\"{task_name}.yaml\"))"
   ]
  },
  {
   "cell_type": "code",
   "execution_count": 84,
   "metadata": {},
   "outputs": [],
   "source": [
    "#small 0.01 weight decay\n",
    "for task_name in utils.task_names_:\n",
    "    for seed in range(3):\n",
    "        fol=f\"./yamls/singles_md3_bs=128/seed={seed}/\"\n",
    "        if not os.path.exists(fol):\n",
    "            os.makedirs(fol)\n",
    "\n",
    "        config_=copy.deepcopy(utils.default_config)\n",
    "        config_[\"experiment_directory\"]=f\"./data/experiments/singles_md3_bs=128/{task_name}_seed={seed}/\"\n",
    "        config_[\"seed\"]=seed\n",
    "        config_[\"dataset_params\"][\"task_names\"]=[task_name]\n",
    "        config_[\"model_params\"][\"weight_decay\"]=0.01\n",
    "        config_[\"training_params\"][\"n_steps\"]=n_steps\n",
    "        config_[\"training_params\"][\"batch_size\"]=128\n",
    "        config_[\"training_params\"][\"save_steps\"]=save_steps\n",
    "\n",
    "        utils.write_config(config_,os.path.join(fol,f\"{task_name}.yaml\"))"
   ]
  },
  {
   "cell_type": "markdown",
   "metadata": {},
   "source": [
    "data"
   ]
  },
  {
   "cell_type": "code",
   "execution_count": 87,
   "metadata": {},
   "outputs": [],
   "source": [
    "#train_frac 0.35\n",
    "for task_name in utils.task_names_:\n",
    "    for seed in range(3):\n",
    "        fol=f\"./yamls/singles_da1_bs=128/seed={seed}/\"\n",
    "        if not os.path.exists(fol):\n",
    "            os.makedirs(fol)\n",
    "\n",
    "        config_=copy.deepcopy(utils.default_config)\n",
    "        config_[\"experiment_directory\"]=f\"./data/experiments/singles_da1_bs=128/{task_name}_seed={seed}/\"\n",
    "        config_[\"seed\"]=seed\n",
    "        config_[\"dataset_params\"][\"task_names\"]=[task_name]\n",
    "        config_[\"dataset_params\"][\"train_frac\"]=0.35\n",
    "        config_[\"training_params\"][\"n_steps\"]=n_steps\n",
    "        config_[\"training_params\"][\"batch_size\"]=128\n",
    "        config_[\"training_params\"][\"save_steps\"]=save_steps\n",
    "\n",
    "        utils.write_config(config_,os.path.join(fol,f\"{task_name}.yaml\"))"
   ]
  },
  {
   "cell_type": "code",
   "execution_count": 88,
   "metadata": {},
   "outputs": [],
   "source": [
    "#train_frac 0.65\n",
    "for task_name in utils.task_names_:\n",
    "    for seed in range(3):\n",
    "        fol=f\"./yamls/singles_da2_bs=128/seed={seed}/\"\n",
    "        if not os.path.exists(fol):\n",
    "            os.makedirs(fol)\n",
    "\n",
    "        config_=copy.deepcopy(utils.default_config)\n",
    "        config_[\"experiment_directory\"]=f\"./data/experiments/singles_da2_bs=128/{task_name}_seed={seed}/\"\n",
    "        config_[\"seed\"]=seed\n",
    "        config_[\"dataset_params\"][\"task_names\"]=[task_name]\n",
    "        config_[\"dataset_params\"][\"train_frac\"]=0.65\n",
    "        config_[\"training_params\"][\"n_steps\"]=n_steps\n",
    "        config_[\"training_params\"][\"batch_size\"]=128\n",
    "        config_[\"training_params\"][\"save_steps\"]=save_steps\n",
    "\n",
    "        utils.write_config(config_,os.path.join(fol,f\"{task_name}.yaml\"))"
   ]
  },
  {
   "cell_type": "markdown",
   "metadata": {},
   "source": [
    "full change"
   ]
  },
  {
   "cell_type": "code",
   "execution_count": 89,
   "metadata": {},
   "outputs": [],
   "source": [
    "task_names=[\"even\",\"add\",\"a2b\",\"a3ab\",\"rand\"]"
   ]
  },
  {
   "cell_type": "code",
   "execution_count": 90,
   "metadata": {},
   "outputs": [],
   "source": [
    "for task_name in task_names:\n",
    "    for seed in range(3):\n",
    "        fol=f\"./yamls/singles_fc1_bs=128/seed={seed}/\"\n",
    "        if not os.path.exists(fol):\n",
    "            os.makedirs(fol)\n",
    "\n",
    "        config_=copy.deepcopy(utils.default_config)\n",
    "        config_[\"experiment_directory\"]=f\"./data/experiments/singles_fc1_bs=128/{task_name}_seed={seed}/\"\n",
    "        config_[\"seed\"]=seed\n",
    "        config_[\"dataset_params\"][\"task_names\"]=[task_name]\n",
    "        config_[\"dataset_params\"][\"train_frac\"]=0.4\n",
    "        config_[\"model_params\"][\"network_params\"][\"n_layer\"]=2\n",
    "        config_[\"training_params\"][\"n_steps\"]=n_steps\n",
    "        config_[\"training_params\"][\"batch_size\"]=128\n",
    "        config_[\"training_params\"][\"save_steps\"]=save_steps\n",
    "\n",
    "        utils.write_config(config_,os.path.join(fol,f\"{task_name}.yaml\"))"
   ]
  },
  {
   "cell_type": "code",
   "execution_count": 91,
   "metadata": {},
   "outputs": [],
   "source": [
    "for task_name in task_names:\n",
    "    for seed in range(3):\n",
    "        fol=f\"./yamls/singles_fc1_bs=64/seed={seed}/\"\n",
    "        if not os.path.exists(fol):\n",
    "            os.makedirs(fol)\n",
    "\n",
    "        config_=copy.deepcopy(utils.default_config)\n",
    "        config_[\"experiment_directory\"]=f\"./data/experiments/singles_fc1_bs=64/{task_name}_seed={seed}/\"\n",
    "        config_[\"seed\"]=seed\n",
    "        config_[\"dataset_params\"][\"task_names\"]=[task_name]\n",
    "        config_[\"dataset_params\"][\"train_frac\"]=0.4\n",
    "        config_[\"model_params\"][\"network_params\"][\"n_layer\"]=2\n",
    "        config_[\"training_params\"][\"n_steps\"]=n_steps\n",
    "        config_[\"training_params\"][\"batch_size\"]=64\n",
    "        config_[\"training_params\"][\"save_steps\"]=save_steps\n",
    "\n",
    "        utils.write_config(config_,os.path.join(fol,f\"{task_name}.yaml\"))"
   ]
  },
  {
   "cell_type": "code",
   "execution_count": 92,
   "metadata": {},
   "outputs": [],
   "source": [
    "for task_name in task_names:\n",
    "    for seed in range(3):\n",
    "        fol=f\"./yamls/singles_fc2_bs=64/seed={seed}/\"\n",
    "        if not os.path.exists(fol):\n",
    "            os.makedirs(fol)\n",
    "\n",
    "        config_=copy.deepcopy(utils.default_config)\n",
    "        config_[\"experiment_directory\"]=f\"./data/experiments/singles_fc2_bs=64/{task_name}_seed={seed}/\"\n",
    "        config_[\"seed\"]=seed\n",
    "        config_[\"dataset_params\"][\"n_max\"]=71\n",
    "        config_[\"dataset_params\"][\"task_names\"]=[task_name]\n",
    "        config_[\"dataset_params\"][\"train_frac\"]=0.4\n",
    "        config_[\"model_params\"][\"network_params\"][\"n_layer\"]=2\n",
    "        config_[\"training_params\"][\"n_steps\"]=n_steps\n",
    "        config_[\"training_params\"][\"batch_size\"]=64\n",
    "        config_[\"training_params\"][\"save_steps\"]=save_steps\n",
    "\n",
    "        utils.write_config(config_,os.path.join(fol,f\"{task_name}.yaml\"))"
   ]
  },
  {
   "cell_type": "code",
   "execution_count": 5,
   "metadata": {},
   "outputs": [],
   "source": [
    "task_names=[\"add\"]"
   ]
  },
  {
   "cell_type": "code",
   "execution_count": 6,
   "metadata": {},
   "outputs": [],
   "source": [
    "for task_name in task_names:\n",
    "    for seed in range(3):\n",
    "        fol=f\"./yamls/singles_fc3_bs=64/seed={seed}/\"\n",
    "        if not os.path.exists(fol):\n",
    "            os.makedirs(fol)\n",
    "\n",
    "        config_=copy.deepcopy(utils.default_config)\n",
    "        config_[\"experiment_directory\"]=f\"./data/experiments/singles_fc3_bs=64/{task_name}_seed={seed}/\"\n",
    "        config_[\"seed\"]=seed\n",
    "        config_[\"dataset_params\"][\"n_max\"]=71\n",
    "        config_[\"dataset_params\"][\"task_names\"]=[task_name]\n",
    "        config_[\"dataset_params\"][\"train_frac\"]=0.3\n",
    "        config_[\"model_params\"][\"network_params\"][\"n_layer\"]=2\n",
    "        config_[\"training_params\"][\"n_steps\"]=n_steps\n",
    "        config_[\"training_params\"][\"batch_size\"]=64\n",
    "        config_[\"training_params\"][\"save_steps\"]=save_steps\n",
    "\n",
    "        utils.write_config(config_,os.path.join(fol,f\"{task_name}.yaml\"))"
   ]
  },
  {
   "cell_type": "code",
   "execution_count": 7,
   "metadata": {},
   "outputs": [],
   "source": [
    "for task_name in task_names:\n",
    "    for seed in range(3):\n",
    "        fol=f\"./yamls/singles_fc3_bs=128/seed={seed}/\"\n",
    "        if not os.path.exists(fol):\n",
    "            os.makedirs(fol)\n",
    "\n",
    "        config_=copy.deepcopy(utils.default_config)\n",
    "        config_[\"experiment_directory\"]=f\"./data/experiments/singles_fc3_bs=128/{task_name}_seed={seed}/\"\n",
    "        config_[\"seed\"]=seed\n",
    "        config_[\"dataset_params\"][\"n_max\"]=71\n",
    "        config_[\"dataset_params\"][\"task_names\"]=[task_name]\n",
    "        config_[\"dataset_params\"][\"train_frac\"]=0.3\n",
    "        config_[\"model_params\"][\"network_params\"][\"n_layer\"]=2\n",
    "        config_[\"training_params\"][\"n_steps\"]=n_steps\n",
    "        config_[\"training_params\"][\"batch_size\"]=128\n",
    "        config_[\"training_params\"][\"save_steps\"]=save_steps\n",
    "\n",
    "        utils.write_config(config_,os.path.join(fol,f\"{task_name}.yaml\"))"
   ]
  },
  {
   "cell_type": "code",
   "execution_count": 25,
   "metadata": {},
   "outputs": [],
   "source": [
    "task_names=[\"add\",\"a2b\"]"
   ]
  },
  {
   "cell_type": "code",
   "execution_count": 27,
   "metadata": {},
   "outputs": [],
   "source": [
    "for task_name in task_names:\n",
    "    for seed in range(3):\n",
    "        fol=f\"./yamls/singles_fc4_bs=64/seed={seed}/\"\n",
    "        if not os.path.exists(fol):\n",
    "            os.makedirs(fol)\n",
    "\n",
    "        config_=copy.deepcopy(utils.default_config)\n",
    "        config_[\"experiment_directory\"]=f\"./data/experiments/singles_fc4_bs=64/{task_name}_seed={seed}/\"\n",
    "        config_[\"seed\"]=seed\n",
    "        config_[\"dataset_params\"][\"n_max\"]=31\n",
    "        config_[\"dataset_params\"][\"task_names\"]=[task_name]\n",
    "        config_[\"dataset_params\"][\"train_frac\"]=0.4\n",
    "        config_[\"model_params\"][\"network_params\"][\"n_layer\"]=2\n",
    "        config_[\"training_params\"][\"n_steps\"]=n_steps\n",
    "        config_[\"training_params\"][\"batch_size\"]=64\n",
    "        config_[\"training_params\"][\"save_steps\"]=save_steps\n",
    "\n",
    "        utils.write_config(config_,os.path.join(fol,f\"{task_name}.yaml\"))"
   ]
  },
  {
   "cell_type": "code",
   "execution_count": 26,
   "metadata": {},
   "outputs": [],
   "source": [
    "for task_name in task_names:\n",
    "    for seed in range(3):\n",
    "        fol=f\"./yamls/singles_fc4_bs=128/seed={seed}/\"\n",
    "        if not os.path.exists(fol):\n",
    "            os.makedirs(fol)\n",
    "\n",
    "        config_=copy.deepcopy(utils.default_config)\n",
    "        config_[\"experiment_directory\"]=f\"./data/experiments/singles_fc4_bs=128/{task_name}_seed={seed}/\"\n",
    "        config_[\"seed\"]=seed\n",
    "        config_[\"dataset_params\"][\"n_max\"]=31\n",
    "        config_[\"dataset_params\"][\"task_names\"]=[task_name]\n",
    "        config_[\"dataset_params\"][\"train_frac\"]=0.4\n",
    "        config_[\"model_params\"][\"network_params\"][\"n_layer\"]=2\n",
    "        config_[\"training_params\"][\"n_steps\"]=n_steps\n",
    "        config_[\"training_params\"][\"batch_size\"]=128\n",
    "        config_[\"training_params\"][\"save_steps\"]=save_steps\n",
    "\n",
    "        utils.write_config(config_,os.path.join(fol,f\"{task_name}.yaml\"))"
   ]
  },
  {
   "cell_type": "code",
   "execution_count": 28,
   "metadata": {},
   "outputs": [],
   "source": [
    "folname=\"singles_fc5_bs=64\"\n",
    "for task_name in task_names:\n",
    "    for seed in range(3):\n",
    "        fol=f\"./yamls/{folname}/seed={seed}/\"\n",
    "        if not os.path.exists(fol):\n",
    "            os.makedirs(fol)\n",
    "\n",
    "        config_=copy.deepcopy(utils.default_config)\n",
    "        config_[\"experiment_directory\"]=f\"./data/experiments/{folname}/{task_name}_seed={seed}/\"\n",
    "        config_[\"seed\"]=seed\n",
    "        config_[\"dataset_params\"][\"n_max\"]=31\n",
    "        config_[\"dataset_params\"][\"task_names\"]=[task_name]\n",
    "        config_[\"dataset_params\"][\"train_frac\"]=0.5\n",
    "        config_[\"model_params\"][\"network_params\"][\"n_layer\"]=2\n",
    "        config_[\"training_params\"][\"n_steps\"]=n_steps\n",
    "        config_[\"training_params\"][\"batch_size\"]=64\n",
    "        config_[\"training_params\"][\"save_steps\"]=save_steps\n",
    "\n",
    "        utils.write_config(config_,os.path.join(fol,f\"{task_name}.yaml\"))"
   ]
  },
  {
   "cell_type": "code",
   "execution_count": 29,
   "metadata": {},
   "outputs": [],
   "source": [
    "folname=\"singles_fc5_bs=128\"\n",
    "for task_name in task_names:\n",
    "    for seed in range(3):\n",
    "        fol=f\"./yamls/{folname}/seed={seed}/\"\n",
    "        if not os.path.exists(fol):\n",
    "            os.makedirs(fol)\n",
    "\n",
    "        config_=copy.deepcopy(utils.default_config)\n",
    "        config_[\"experiment_directory\"]=f\"./data/experiments/{folname}/{task_name}_seed={seed}/\"\n",
    "        config_[\"seed\"]=seed\n",
    "        config_[\"dataset_params\"][\"n_max\"]=31\n",
    "        config_[\"dataset_params\"][\"task_names\"]=[task_name]\n",
    "        config_[\"dataset_params\"][\"train_frac\"]=0.5\n",
    "        config_[\"model_params\"][\"network_params\"][\"n_layer\"]=2\n",
    "        config_[\"training_params\"][\"n_steps\"]=n_steps\n",
    "        config_[\"training_params\"][\"batch_size\"]=128\n",
    "        config_[\"training_params\"][\"save_steps\"]=save_steps\n",
    "\n",
    "        utils.write_config(config_,os.path.join(fol,f\"{task_name}.yaml\"))"
   ]
  },
  {
   "cell_type": "code",
   "execution_count": 30,
   "metadata": {},
   "outputs": [],
   "source": [
    "folname=\"singles_fc6_bs=64\"\n",
    "for task_name in task_names:\n",
    "    for seed in range(3):\n",
    "        fol=f\"./yamls/{folname}/seed={seed}/\"\n",
    "        if not os.path.exists(fol):\n",
    "            os.makedirs(fol)\n",
    "\n",
    "        config_=copy.deepcopy(utils.default_config)\n",
    "        config_[\"experiment_directory\"]=f\"./data/experiments/{folname}/{task_name}_seed={seed}/\"\n",
    "        config_[\"seed\"]=seed\n",
    "        config_[\"dataset_params\"][\"n_max\"]=53\n",
    "        config_[\"dataset_params\"][\"task_names\"]=[task_name]\n",
    "        config_[\"dataset_params\"][\"train_frac\"]=0.5\n",
    "        config_[\"model_params\"][\"network_params\"][\"n_layer\"]=2\n",
    "        config_[\"training_params\"][\"n_steps\"]=n_steps\n",
    "        config_[\"training_params\"][\"batch_size\"]=64\n",
    "        config_[\"training_params\"][\"save_steps\"]=save_steps\n",
    "\n",
    "        utils.write_config(config_,os.path.join(fol,f\"{task_name}.yaml\"))"
   ]
  },
  {
   "cell_type": "code",
   "execution_count": null,
   "metadata": {},
   "outputs": [],
   "source": []
  },
  {
   "cell_type": "code",
   "execution_count": null,
   "metadata": {},
   "outputs": [],
   "source": []
  },
  {
   "cell_type": "code",
   "execution_count": 18,
   "metadata": {},
   "outputs": [],
   "source": [
    "import torch\n",
    "import matplotlib.pyplot as plt\n",
    "results=torch.load(\"./data/experiments/singles_fc3_bs=128/add_seed=0/results.pth\")\n",
    "results.keys()\n",
    "save_steps=results[\"save_steps\"]\n",
    "train_accs=results[\"train_accs\"]\n",
    "val_accs=results[\"val_accs\"]"
   ]
  },
  {
   "cell_type": "code",
   "execution_count": 21,
   "metadata": {},
   "outputs": [
    {
     "data": {
      "image/png": "[encoded data removed]",
      "text/plain": [
       "<Figure size 640x480 with 1 Axes>"
      ]
     },
     "metadata": {},
     "output_type": "display_data"
    }
   ],
   "source": [
    "plt.plot(save_steps,train_accs[\"add\"])\n",
    "plt.plot(save_steps,val_accs[\"add\"])\n",
    "plt.xlim(10,20000)\n",
    "plt.xscale(\"log\")"
   ]
  },
  {
   "cell_type": "code",
   "execution_count": null,
   "metadata": {},
   "outputs": [],
   "source": []
  }
 ],
 "metadata": {
  "kernelspec": {
   "display_name": "venv1",
   "language": "python",
   "name": "python3"
  },
  "language_info": {
   "codemirror_mode": {
    "name": "ipython",
    "version": 3
   },
   "file_extension": ".py",
   "mimetype": "text/x-python",
   "name": "python",
   "nbconvert_exporter": "python",
   "pygments_lexer": "ipython3",
   "version": "3.10.9"
  }
 },
 "nbformat": 4,
 "nbformat_minor": 2
}
